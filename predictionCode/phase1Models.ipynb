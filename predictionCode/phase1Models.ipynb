{
 "cells": [
  {
   "cell_type": "code",
   "execution_count": 7,
   "metadata": {},
   "outputs": [],
   "source": [
    "from sklearn.model_selection import train_test_split\n",
    "from sklearn import linear_model\n",
    "from sklearn.ensemble import RandomForestRegressor\n",
    "from sklearn.metrics import mean_squared_error, r2_score\n",
    "from sklearn.metrics import roc_auc_score\n",
    "from sklearn.model_selection import cross_val_score\n",
    "import warnings\n",
    "warnings.filterwarnings(\"ignore\")\n",
    "import numpy as np\n",
    "import pandas as pd\n",
    "from hyperopt import hp,fmin,tpe,STATUS_OK,Trials"
   ]
  },
  {
   "attachments": {},
   "cell_type": "markdown",
   "metadata": {},
   "source": [
    "## BB Model"
   ]
  },
  {
   "cell_type": "code",
   "execution_count": 34,
   "metadata": {},
   "outputs": [
    {
     "data": {
      "text/plain": [
       "(40535, 43)"
      ]
     },
     "execution_count": 34,
     "metadata": {},
     "output_type": "execute_result"
    }
   ],
   "source": [
    "df = pd.read_csv('siteData2/BB_combined.csv')\n",
    "df.shape"
   ]
  },
  {
   "cell_type": "code",
   "execution_count": 59,
   "metadata": {},
   "outputs": [],
   "source": [
    "# df.info()\n",
    "df = df.dropna()"
   ]
  },
  {
   "cell_type": "code",
   "execution_count": 60,
   "metadata": {},
   "outputs": [
    {
     "data": {
      "text/plain": [
       "(39343, 43)"
      ]
     },
     "execution_count": 60,
     "metadata": {},
     "output_type": "execute_result"
    }
   ],
   "source": [
    "df.shape"
   ]
  },
  {
   "cell_type": "code",
   "execution_count": 39,
   "metadata": {},
   "outputs": [
    {
     "name": "stdout",
     "output_type": "stream",
     "text": [
      "100%|██████████| 20/20 [11:04<00:00, 33.21s/trial, best loss: 612.6854279123542]\n"
     ]
    }
   ],
   "source": [
    "X = df[['WS0_Sun', 'WS0_Temp1', 'WS0_TempF', 'timeelapsed', 'altitude', 'azimuth', 'aoi', 'DC_pred', 'AC_pred']]\n",
    "Y = df['Elkor Production Meter KwAC']\n",
    "\n",
    "x_full_train, x_test, y_full_train, y_test = train_test_split(X,Y, test_size = .2, random_state = 1)\n",
    "x_train, x_val, y_train, y_val = train_test_split(x_full_train, y_full_train, test_size = .25, random_state = 1)\n",
    "\n",
    "seed=2\n",
    "def objective(params):\n",
    "    est = int(params['n_estimators'])\n",
    "    md = int(params['max_depth'])\n",
    "    msl = int(params['min_samples_leaf'])\n",
    "    mss = int(params['min_samples_split'])\n",
    "\n",
    "    model=RandomForestRegressor(n_estimators=est,max_depth=md,min_samples_leaf=msl,min_samples_split=mss)\n",
    "    model.fit(x_train,y_train)\n",
    "    pred=model.predict(x_test)\n",
    "    score=mean_squared_error(y_test,pred)\n",
    "    return score\n",
    "\n",
    "def optimize(trial):\n",
    "    params={'n_estimators':hp.uniform('n_estimators',100,500),\n",
    "           'max_depth':hp.uniform('max_depth',5,20),\n",
    "           'min_samples_leaf':hp.uniform('min_samples_leaf',1,5),\n",
    "           'min_samples_split':hp.uniform('min_samples_split',2,6),\n",
    "           }\n",
    "    best=fmin(fn=objective,space=params,algo=tpe.suggest,trials=trial,max_evals=20,rstate=np.random.default_rng(seed))\n",
    "    return best\n",
    "\n",
    "trial=Trials()\n",
    "best=optimize(trial)\n"
   ]
  },
  {
   "cell_type": "code",
   "execution_count": 144,
   "metadata": {},
   "outputs": [
    {
     "data": {
      "text/plain": [
       "{'max_depth': 17.06974354546972,\n",
       " 'min_samples_leaf': 2.3918730381022115,\n",
       " 'min_samples_split': 2.9289857075688754,\n",
       " 'n_estimators': 348.29829423751994}"
      ]
     },
     "execution_count": 144,
     "metadata": {},
     "output_type": "execute_result"
    }
   ],
   "source": [
    "best"
   ]
  },
  {
   "attachments": {},
   "cell_type": "markdown",
   "metadata": {},
   "source": [
    "##### Best Model\n",
    "\n",
    "Max Depth : 19\n",
    "\n",
    "Min Samples per Leaf : 2\n",
    "\n",
    "Min Samples Split : 5\n",
    "\n",
    "Number of Estimators : 407\n",
    "\n",
    "R2 : .9812"
   ]
  },
  {
   "cell_type": "code",
   "execution_count": 43,
   "metadata": {},
   "outputs": [],
   "source": [
    "bestFit = RandomForestRegressor(max_depth=19, n_estimators=407, min_samples_leaf=2, min_samples_split=5, random_state=0)\n",
    "bestFit = bestFit.fit(x_train, y_train)\n",
    "\n",
    "pred = bestFit.predict(x_test)\n",
    "mse = np.mean((pred - y_test)**2)\n",
    "r2 = bestFit.score(x_test, y_test)\n"
   ]
  },
  {
   "cell_type": "code",
   "execution_count": 49,
   "metadata": {},
   "outputs": [
    {
     "name": "stdout",
     "output_type": "stream",
     "text": [
      "615.032163518082\n",
      "0.9811739044363551\n"
     ]
    }
   ],
   "source": [
    "print(mse)\n",
    "print(r2)"
   ]
  },
  {
   "cell_type": "code",
   "execution_count": 57,
   "metadata": {},
   "outputs": [
    {
     "name": "stdout",
     "output_type": "stream",
     "text": [
      "2481.758182967251\n",
      "0.9232532796427165\n"
     ]
    }
   ],
   "source": [
    "prod = df['Elkor Production Meter KwAC']\n",
    "est1 = df['DC_pred']\n",
    "est2 = df['AC_pred']\n",
    "\n",
    "mse1 = mean_squared_error(prod, est1)\n",
    "mse2 = mean_squared_error(prod, est2)\n",
    "\n",
    "r21 = r2_score(prod, est1)\n",
    "r22 = r2_score(prod, est2)\n",
    "\n",
    "print(mse2)\n",
    "print(r22)"
   ]
  },
  {
   "attachments": {},
   "cell_type": "markdown",
   "metadata": {},
   "source": [
    "## Cedar Model"
   ]
  },
  {
   "cell_type": "code",
   "execution_count": 82,
   "metadata": {},
   "outputs": [
    {
     "data": {
      "text/html": [
       "<div>\n",
       "<style scoped>\n",
       "    .dataframe tbody tr th:only-of-type {\n",
       "        vertical-align: middle;\n",
       "    }\n",
       "\n",
       "    .dataframe tbody tr th {\n",
       "        vertical-align: top;\n",
       "    }\n",
       "\n",
       "    .dataframe thead th {\n",
       "        text-align: right;\n",
       "    }\n",
       "</style>\n",
       "<table border=\"1\" class=\"dataframe\">\n",
       "  <thead>\n",
       "    <tr style=\"text-align: right;\">\n",
       "      <th></th>\n",
       "      <th>Unnamed: 0</th>\n",
       "      <th>time</th>\n",
       "      <th>time.1</th>\n",
       "      <th>WS0_Sun</th>\n",
       "      <th>WS0_Temp1</th>\n",
       "      <th>WS0_TempF</th>\n",
       "      <th>Elkor Production Meter KwAC</th>\n",
       "      <th>CPS SCA50KTL Inv - 1 KwAC</th>\n",
       "      <th>CPS SCA50KTL Inv - 2 KwAC</th>\n",
       "      <th>CPS SCA50KTL Inv - 3 KwAC</th>\n",
       "      <th>...</th>\n",
       "      <th>CPS SCA50KTL Inv - 7 Vdc</th>\n",
       "      <th>CPS SCA50KTL Inv - 8 Vdc</th>\n",
       "      <th>CPS SCA50KTL Inv - 9 Vdc</th>\n",
       "      <th>CPS SCA50KTL Inv - 10 Vdc</th>\n",
       "      <th>timeelapsed</th>\n",
       "      <th>altitude</th>\n",
       "      <th>azimuth</th>\n",
       "      <th>aoi</th>\n",
       "      <th>DC_pred</th>\n",
       "      <th>AC_pred</th>\n",
       "    </tr>\n",
       "  </thead>\n",
       "  <tbody>\n",
       "    <tr>\n",
       "      <th>0</th>\n",
       "      <td>0</td>\n",
       "      <td>2019-10-01 06:45:00</td>\n",
       "      <td>2019-10-01 06:45:00</td>\n",
       "      <td>816.3210</td>\n",
       "      <td>55.36292</td>\n",
       "      <td>56.82717</td>\n",
       "      <td>-0.045130</td>\n",
       "      <td>0.0</td>\n",
       "      <td>0.0</td>\n",
       "      <td>0.0</td>\n",
       "      <td>...</td>\n",
       "      <td>462.0997</td>\n",
       "      <td>517.1223</td>\n",
       "      <td>502.7284</td>\n",
       "      <td>486.8464</td>\n",
       "      <td>0.000000</td>\n",
       "      <td>-1.572771</td>\n",
       "      <td>92.869665</td>\n",
       "      <td>89.643510</td>\n",
       "      <td>511.051210</td>\n",
       "      <td>490.733543</td>\n",
       "    </tr>\n",
       "    <tr>\n",
       "      <th>47</th>\n",
       "      <td>47</td>\n",
       "      <td>2019-10-01 18:30:00</td>\n",
       "      <td>2019-10-01 18:30:00</td>\n",
       "      <td>63.1988</td>\n",
       "      <td>67.77032</td>\n",
       "      <td>70.38957</td>\n",
       "      <td>-0.068598</td>\n",
       "      <td>0.0</td>\n",
       "      <td>0.0</td>\n",
       "      <td>0.0</td>\n",
       "      <td>...</td>\n",
       "      <td>555.6366</td>\n",
       "      <td>552.2689</td>\n",
       "      <td>548.7270</td>\n",
       "      <td>554.0724</td>\n",
       "      <td>0.001341</td>\n",
       "      <td>0.268285</td>\n",
       "      <td>265.598892</td>\n",
       "      <td>87.257325</td>\n",
       "      <td>41.753081</td>\n",
       "      <td>37.812346</td>\n",
       "    </tr>\n",
       "    <tr>\n",
       "      <th>48</th>\n",
       "      <td>48</td>\n",
       "      <td>2019-10-01 18:45:00</td>\n",
       "      <td>2019-10-01 18:45:00</td>\n",
       "      <td>1238.7280</td>\n",
       "      <td>67.77459</td>\n",
       "      <td>70.16807</td>\n",
       "      <td>-0.044356</td>\n",
       "      <td>0.0</td>\n",
       "      <td>0.0</td>\n",
       "      <td>0.0</td>\n",
       "      <td>...</td>\n",
       "      <td>523.8333</td>\n",
       "      <td>518.7667</td>\n",
       "      <td>516.8333</td>\n",
       "      <td>523.8333</td>\n",
       "      <td>0.001370</td>\n",
       "      <td>-2.956539</td>\n",
       "      <td>268.181364</td>\n",
       "      <td>91.379350</td>\n",
       "      <td>713.630285</td>\n",
       "      <td>510.000000</td>\n",
       "    </tr>\n",
       "    <tr>\n",
       "      <th>49</th>\n",
       "      <td>49</td>\n",
       "      <td>2019-10-02 06:45:00</td>\n",
       "      <td>2019-10-02 06:45:00</td>\n",
       "      <td>423.9201</td>\n",
       "      <td>62.32843</td>\n",
       "      <td>63.91058</td>\n",
       "      <td>-0.040631</td>\n",
       "      <td>0.0</td>\n",
       "      <td>0.0</td>\n",
       "      <td>0.0</td>\n",
       "      <td>...</td>\n",
       "      <td>400.8340</td>\n",
       "      <td>412.5951</td>\n",
       "      <td>447.1431</td>\n",
       "      <td>452.1459</td>\n",
       "      <td>0.002740</td>\n",
       "      <td>-1.782317</td>\n",
       "      <td>93.205561</td>\n",
       "      <td>89.622965</td>\n",
       "      <td>273.025396</td>\n",
       "      <td>262.692696</td>\n",
       "    </tr>\n",
       "    <tr>\n",
       "      <th>97</th>\n",
       "      <td>97</td>\n",
       "      <td>2019-10-02 18:45:00</td>\n",
       "      <td>2019-10-02 18:45:00</td>\n",
       "      <td>884.4646</td>\n",
       "      <td>45.26099</td>\n",
       "      <td>48.32437</td>\n",
       "      <td>-0.043273</td>\n",
       "      <td>0.0</td>\n",
       "      <td>0.0</td>\n",
       "      <td>0.0</td>\n",
       "      <td>...</td>\n",
       "      <td>512.3333</td>\n",
       "      <td>497.0333</td>\n",
       "      <td>496.0000</td>\n",
       "      <td>508.8333</td>\n",
       "      <td>0.004110</td>\n",
       "      <td>-3.280979</td>\n",
       "      <td>267.955139</td>\n",
       "      <td>91.515615</td>\n",
       "      <td>560.304656</td>\n",
       "      <td>510.000000</td>\n",
       "    </tr>\n",
       "  </tbody>\n",
       "</table>\n",
       "<p>5 rows × 43 columns</p>\n",
       "</div>"
      ],
      "text/plain": [
       "    Unnamed: 0                 time               time.1    WS0_Sun  \\\n",
       "0            0  2019-10-01 06:45:00  2019-10-01 06:45:00   816.3210   \n",
       "47          47  2019-10-01 18:30:00  2019-10-01 18:30:00    63.1988   \n",
       "48          48  2019-10-01 18:45:00  2019-10-01 18:45:00  1238.7280   \n",
       "49          49  2019-10-02 06:45:00  2019-10-02 06:45:00   423.9201   \n",
       "97          97  2019-10-02 18:45:00  2019-10-02 18:45:00   884.4646   \n",
       "\n",
       "    WS0_Temp1  WS0_TempF  Elkor Production Meter KwAC  \\\n",
       "0    55.36292   56.82717                    -0.045130   \n",
       "47   67.77032   70.38957                    -0.068598   \n",
       "48   67.77459   70.16807                    -0.044356   \n",
       "49   62.32843   63.91058                    -0.040631   \n",
       "97   45.26099   48.32437                    -0.043273   \n",
       "\n",
       "    CPS SCA50KTL Inv - 1 KwAC  CPS SCA50KTL Inv - 2 KwAC  \\\n",
       "0                         0.0                        0.0   \n",
       "47                        0.0                        0.0   \n",
       "48                        0.0                        0.0   \n",
       "49                        0.0                        0.0   \n",
       "97                        0.0                        0.0   \n",
       "\n",
       "    CPS SCA50KTL Inv - 3 KwAC  ...  CPS SCA50KTL Inv - 7 Vdc  \\\n",
       "0                         0.0  ...                  462.0997   \n",
       "47                        0.0  ...                  555.6366   \n",
       "48                        0.0  ...                  523.8333   \n",
       "49                        0.0  ...                  400.8340   \n",
       "97                        0.0  ...                  512.3333   \n",
       "\n",
       "    CPS SCA50KTL Inv - 8 Vdc  CPS SCA50KTL Inv - 9 Vdc  \\\n",
       "0                   517.1223                  502.7284   \n",
       "47                  552.2689                  548.7270   \n",
       "48                  518.7667                  516.8333   \n",
       "49                  412.5951                  447.1431   \n",
       "97                  497.0333                  496.0000   \n",
       "\n",
       "    CPS SCA50KTL Inv - 10 Vdc  timeelapsed  altitude     azimuth        aoi  \\\n",
       "0                    486.8464     0.000000 -1.572771   92.869665  89.643510   \n",
       "47                   554.0724     0.001341  0.268285  265.598892  87.257325   \n",
       "48                   523.8333     0.001370 -2.956539  268.181364  91.379350   \n",
       "49                   452.1459     0.002740 -1.782317   93.205561  89.622965   \n",
       "97                   508.8333     0.004110 -3.280979  267.955139  91.515615   \n",
       "\n",
       "       DC_pred     AC_pred  \n",
       "0   511.051210  490.733543  \n",
       "47   41.753081   37.812346  \n",
       "48  713.630285  510.000000  \n",
       "49  273.025396  262.692696  \n",
       "97  560.304656  510.000000  \n",
       "\n",
       "[5 rows x 43 columns]"
      ]
     },
     "execution_count": 82,
     "metadata": {},
     "output_type": "execute_result"
    }
   ],
   "source": [
    "cedar = pd.read_csv('siteData2/Cedar_combined.csv')\n",
    "cedar = cedar.dropna()\n",
    "cedar.head()"
   ]
  },
  {
   "cell_type": "code",
   "execution_count": 83,
   "metadata": {},
   "outputs": [],
   "source": [
    "cedarX = df[['WS0_Sun', 'WS0_Temp1', 'WS0_TempF', 'timeelapsed', 'altitude', 'azimuth', 'aoi', 'DC_pred', 'AC_pred']]\n",
    "cedarY = df['Elkor Production Meter KwAC']\n",
    "\n",
    "cedarx_full_train, cedarx_test, cedary_full_train, cedary_test = train_test_split(cedarX,cedarY, test_size = .2, random_state = 1)\n",
    "cedarx_train, cedarx_val, cedary_train, cedary_val = train_test_split(cedarx_full_train, cedary_full_train, test_size = .25, random_state = 1)\n",
    "\n",
    "seed=2\n",
    "def objective(params):\n",
    "    est = int(params['n_estimators'])\n",
    "    md = int(params['max_depth'])\n",
    "    msl = int(params['min_samples_leaf'])\n",
    "    mss = int(params['min_samples_split'])\n",
    "\n",
    "    model=RandomForestRegressor(n_estimators=est,max_depth=md,min_samples_leaf=msl,min_samples_split=mss)\n",
    "    model.fit(cedarx_train,cedary_train)\n",
    "    pred=model.predict(cedarx_test)\n",
    "    score=mean_squared_error(cedary_test,pred)\n",
    "    return score\n",
    "\n",
    "def optimize(trial):\n",
    "    params={'n_estimators':hp.uniform('n_estimators',100,500),\n",
    "           'max_depth':hp.uniform('max_depth',5,20),\n",
    "           'min_samples_leaf':hp.uniform('min_samples_leaf',1,5),\n",
    "           'min_samples_split':hp.uniform('min_samples_split',2,6),\n",
    "           }\n",
    "    best=fmin(fn=objective,space=params,algo=tpe.suggest,trials=trial,max_evals=20,rstate=np.random.default_rng(seed))\n",
    "    return best\n",
    "\n",
    "trial=Trials()"
   ]
  },
  {
   "cell_type": "code",
   "execution_count": 64,
   "metadata": {},
   "outputs": [
    {
     "data": {
      "text/plain": [
       "{'max_depth': 18.288754468457192,\n",
       " 'min_samples_leaf': 2.302692011627016,\n",
       " 'min_samples_split': 3.7026742150109038,\n",
       " 'n_estimators': 360.9016960267483}"
      ]
     },
     "execution_count": 64,
     "metadata": {},
     "output_type": "execute_result"
    }
   ],
   "source": [
    "best=optimize(trial)\n",
    "best"
   ]
  },
  {
   "attachments": {},
   "cell_type": "markdown",
   "metadata": {},
   "source": [
    "##### Cedar Best Fit\n",
    "\n",
    "Max Depth : 18\n",
    "\n",
    "Min Samples per Leaf : 2\n",
    "\n",
    "Min Samples Split : 4\n",
    "\n",
    "Number of Estimators : 361\n",
    "\n",
    "R2 : .9812"
   ]
  },
  {
   "cell_type": "code",
   "execution_count": 84,
   "metadata": {},
   "outputs": [],
   "source": [
    "cedarBestFit = RandomForestRegressor(max_depth=18, n_estimators=361, min_samples_leaf=2, min_samples_split=4, random_state=0)\n",
    "cedarBestFit = cedarBestFit.fit(cedarx_train, cedary_train)\n",
    "\n",
    "cedarpred = cedarBestFit.predict(cedarx_test)\n",
    "cedarmse = np.mean((cedarpred - cedary_test)**2)\n",
    "cedarr2 = bestFit.score(cedarx_test, cedary_test)"
   ]
  },
  {
   "cell_type": "code",
   "execution_count": 85,
   "metadata": {},
   "outputs": [
    {
     "name": "stdout",
     "output_type": "stream",
     "text": [
      "613.533349297032\n",
      "0.9811739044363551\n"
     ]
    }
   ],
   "source": [
    "print(cedarmse)\n",
    "print(cedarr2)"
   ]
  },
  {
   "cell_type": "code",
   "execution_count": 86,
   "metadata": {},
   "outputs": [
    {
     "name": "stdout",
     "output_type": "stream",
     "text": [
      "1547522.8289509183\n",
      "-49.252336197205274\n"
     ]
    }
   ],
   "source": [
    "cedarprod = cedar['Elkor Production Meter KwAC']\n",
    "cedarest = cedar['AC_pred']\n",
    "\n",
    "cedarmse2 = mean_squared_error(cedarprod, cedarest)\n",
    "r22 = r2_score(cedarprod, cedarest)\n",
    "\n",
    "print(cedarmse2)\n",
    "print(r22)"
   ]
  },
  {
   "attachments": {},
   "cell_type": "markdown",
   "metadata": {},
   "source": [
    "## CMS Model"
   ]
  },
  {
   "cell_type": "code",
   "execution_count": 94,
   "metadata": {},
   "outputs": [
    {
     "data": {
      "text/plain": [
       "(95387, 69)"
      ]
     },
     "execution_count": 94,
     "metadata": {},
     "output_type": "execute_result"
    }
   ],
   "source": [
    "cms = pd.read_csv('siteData2/CMS_combined.csv')\n",
    "del cms['CPS 36K Inverter 8']\n",
    "cms = cms.dropna()\n",
    "cms.shape"
   ]
  },
  {
   "cell_type": "code",
   "execution_count": 95,
   "metadata": {},
   "outputs": [],
   "source": [
    "cmsX = cms[['WS0_Sun', 'WS0_Temp1', 'WS0_TempF', 'WS1_Sun2', 'WS1_Temp1', 'timeelapsed', 'altitude', 'azimuth', 'aoi', 'DC_pred', 'AC_pred']]\n",
    "cmsY = cms['Production Meter (C3) KwAC']\n",
    "\n",
    "cmsx_full_train, cmsx_test, cmsy_full_train, cmsy_test = train_test_split(cmsX,cmsY, test_size = .2, random_state = 1)\n",
    "cmsx_train, cmsx_val, cmsy_train, cmsy_val = train_test_split(cmsx_full_train, cmsy_full_train, test_size = .25, random_state = 1)\n",
    "\n",
    "seed=2\n",
    "def objective(params):\n",
    "    est = int(params['n_estimators'])\n",
    "    md = int(params['max_depth'])\n",
    "    msl = int(params['min_samples_leaf'])\n",
    "    mss = int(params['min_samples_split'])\n",
    "\n",
    "    model=RandomForestRegressor(n_estimators=est,max_depth=md,min_samples_leaf=msl,min_samples_split=mss)\n",
    "    model.fit(cmsx_train,cmsy_train)\n",
    "    pred=model.predict(cmsx_test)\n",
    "    score=mean_squared_error(cmsy_test,pred)\n",
    "    return score\n",
    "\n",
    "def optimize(trial):\n",
    "    params={'n_estimators':hp.uniform('n_estimators',100,500),\n",
    "           'max_depth':hp.uniform('max_depth',5,20),\n",
    "           'min_samples_leaf':hp.uniform('min_samples_leaf',1,5),\n",
    "           'min_samples_split':hp.uniform('min_samples_split',2,6),\n",
    "           }\n",
    "    best=fmin(fn=objective,space=params,algo=tpe.suggest,trials=trial,max_evals=20,rstate=np.random.default_rng(seed))\n",
    "    return best\n",
    "\n",
    "trial=Trials()"
   ]
  },
  {
   "cell_type": "code",
   "execution_count": 96,
   "metadata": {},
   "outputs": [
    {
     "name": "stdout",
     "output_type": "stream",
     "text": [
      "100%|██████████| 20/20 [36:47<00:00, 110.36s/trial, best loss: 1524.5076781619487]\n"
     ]
    }
   ],
   "source": [
    "best = optimize(trial)"
   ]
  },
  {
   "cell_type": "code",
   "execution_count": 97,
   "metadata": {},
   "outputs": [
    {
     "data": {
      "text/plain": [
       "{'max_depth': 18.886983419897025,\n",
       " 'min_samples_leaf': 2.1441468323467774,\n",
       " 'min_samples_split': 4.513989693799335,\n",
       " 'n_estimators': 406.8523354947371}"
      ]
     },
     "execution_count": 97,
     "metadata": {},
     "output_type": "execute_result"
    }
   ],
   "source": [
    "best"
   ]
  },
  {
   "attachments": {},
   "cell_type": "markdown",
   "metadata": {},
   "source": [
    "##### CMS Best Fit\n",
    "\n",
    "Max Depth : 19\n",
    "\n",
    "Min Samples per Leaf : 2\n",
    "\n",
    "Min Samples Split : 4.5\n",
    "\n",
    "Number of Estimators : 407\n",
    "\n",
    "R2 : .9691"
   ]
  },
  {
   "cell_type": "code",
   "execution_count": 100,
   "metadata": {},
   "outputs": [],
   "source": [
    "cmsBestFit = RandomForestRegressor(max_depth=19, n_estimators=407, min_samples_leaf=2, min_samples_split=5, random_state=0)\n",
    "cmsBestFit = cmsBestFit.fit(cmsx_train, cmsy_train)\n",
    "\n",
    "cmspred = cmsBestFit.predict(cmsx_test)\n",
    "cmsmse = np.mean((cmspred - cmsy_test)**2)\n",
    "cmsr2 = cmsBestFit.score(cmsx_test, cmsy_test)"
   ]
  },
  {
   "cell_type": "code",
   "execution_count": 101,
   "metadata": {},
   "outputs": [
    {
     "name": "stdout",
     "output_type": "stream",
     "text": [
      "1525.980763939195\n",
      "0.9690515321942401\n"
     ]
    }
   ],
   "source": [
    "print(cmsmse)\n",
    "print(cmsr2)"
   ]
  },
  {
   "cell_type": "code",
   "execution_count": 102,
   "metadata": {},
   "outputs": [
    {
     "name": "stdout",
     "output_type": "stream",
     "text": [
      "1547522.8289509183\n",
      "0.8935184743252669\n"
     ]
    }
   ],
   "source": [
    "cmsprod = cms['Production Meter (C3) KwAC']\n",
    "cmsest = cms['AC_pred']\n",
    "\n",
    "cmsmse2 = mean_squared_error(cmsprod, cmsest)\n",
    "cmsr22 = r2_score(cmsprod, cmsest)\n",
    "\n",
    "print(cmsmse2)\n",
    "print(cmsr22)"
   ]
  },
  {
   "attachments": {},
   "cell_type": "markdown",
   "metadata": {},
   "source": [
    "## Dublin Model"
   ]
  },
  {
   "cell_type": "code",
   "execution_count": 105,
   "metadata": {},
   "outputs": [
    {
     "data": {
      "text/plain": [
       "(109784, 42)"
      ]
     },
     "execution_count": 105,
     "metadata": {},
     "output_type": "execute_result"
    }
   ],
   "source": [
    "db = pd.read_csv('siteData2/Dublin_combined.csv')\n",
    "db = db.dropna()\n",
    "db.shape"
   ]
  },
  {
   "cell_type": "code",
   "execution_count": 106,
   "metadata": {},
   "outputs": [
    {
     "data": {
      "text/html": [
       "<div>\n",
       "<style scoped>\n",
       "    .dataframe tbody tr th:only-of-type {\n",
       "        vertical-align: middle;\n",
       "    }\n",
       "\n",
       "    .dataframe tbody tr th {\n",
       "        vertical-align: top;\n",
       "    }\n",
       "\n",
       "    .dataframe thead th {\n",
       "        text-align: right;\n",
       "    }\n",
       "</style>\n",
       "<table border=\"1\" class=\"dataframe\">\n",
       "  <thead>\n",
       "    <tr style=\"text-align: right;\">\n",
       "      <th></th>\n",
       "      <th>Unnamed: 0</th>\n",
       "      <th>time</th>\n",
       "      <th>time.1</th>\n",
       "      <th>WS0_Sun</th>\n",
       "      <th>WS0_Temp1</th>\n",
       "      <th>WS0_TempF</th>\n",
       "      <th>WS1_Sun2</th>\n",
       "      <th>WS1_Temp1</th>\n",
       "      <th>Production Meter (Elkor MII) KwAC</th>\n",
       "      <th>Chint SCA 36KTL - 1 KwAC</th>\n",
       "      <th>...</th>\n",
       "      <th>Chint SCA 36KTL - 6 Vdc</th>\n",
       "      <th>Chint SCA 36KTL - 7 Vdc</th>\n",
       "      <th>Chint SCA 36KTL - 8 Vdc</th>\n",
       "      <th>Chint SCA 36KTL - 9 Vdc</th>\n",
       "      <th>timeelapsed</th>\n",
       "      <th>altitude</th>\n",
       "      <th>azimuth</th>\n",
       "      <th>aoi</th>\n",
       "      <th>DC_pred</th>\n",
       "      <th>AC_pred</th>\n",
       "    </tr>\n",
       "  </thead>\n",
       "  <tbody>\n",
       "    <tr>\n",
       "      <th>0</th>\n",
       "      <td>0</td>\n",
       "      <td>2017-01-01 07:15:00</td>\n",
       "      <td>2017-01-01 07:15:00</td>\n",
       "      <td>5.320261</td>\n",
       "      <td>28.57513</td>\n",
       "      <td>30.52502</td>\n",
       "      <td>4.88668</td>\n",
       "      <td>29.55798</td>\n",
       "      <td>-0.248308</td>\n",
       "      <td>0.000000</td>\n",
       "      <td>...</td>\n",
       "      <td>75.99117</td>\n",
       "      <td>180.3000</td>\n",
       "      <td>38.50027</td>\n",
       "      <td>60.54493</td>\n",
       "      <td>0.000000</td>\n",
       "      <td>-1.508618</td>\n",
       "      <td>120.547557</td>\n",
       "      <td>74.344359</td>\n",
       "      <td>2.230250</td>\n",
       "      <td>0.198529</td>\n",
       "    </tr>\n",
       "    <tr>\n",
       "      <th>1</th>\n",
       "      <td>1</td>\n",
       "      <td>2017-01-01 07:30:00</td>\n",
       "      <td>2017-01-01 07:30:00</td>\n",
       "      <td>23.561870</td>\n",
       "      <td>28.38759</td>\n",
       "      <td>30.29182</td>\n",
       "      <td>15.46502</td>\n",
       "      <td>29.23085</td>\n",
       "      <td>-0.244957</td>\n",
       "      <td>0.010889</td>\n",
       "      <td>...</td>\n",
       "      <td>419.24770</td>\n",
       "      <td>379.7802</td>\n",
       "      <td>325.01900</td>\n",
       "      <td>453.00260</td>\n",
       "      <td>0.000029</td>\n",
       "      <td>1.199592</td>\n",
       "      <td>123.091209</td>\n",
       "      <td>70.716775</td>\n",
       "      <td>9.863762</td>\n",
       "      <td>7.689906</td>\n",
       "    </tr>\n",
       "    <tr>\n",
       "      <th>2</th>\n",
       "      <td>2</td>\n",
       "      <td>2017-01-01 07:45:00</td>\n",
       "      <td>2017-01-01 07:45:00</td>\n",
       "      <td>154.546700</td>\n",
       "      <td>28.53527</td>\n",
       "      <td>30.37812</td>\n",
       "      <td>53.34275</td>\n",
       "      <td>29.64955</td>\n",
       "      <td>-0.036780</td>\n",
       "      <td>0.085111</td>\n",
       "      <td>...</td>\n",
       "      <td>457.00420</td>\n",
       "      <td>586.3856</td>\n",
       "      <td>581.84590</td>\n",
       "      <td>598.19790</td>\n",
       "      <td>0.000057</td>\n",
       "      <td>3.311676</td>\n",
       "      <td>125.696554</td>\n",
       "      <td>67.577159</td>\n",
       "      <td>63.839337</td>\n",
       "      <td>60.500844</td>\n",
       "    </tr>\n",
       "    <tr>\n",
       "      <th>3</th>\n",
       "      <td>3</td>\n",
       "      <td>2017-01-01 08:00:00</td>\n",
       "      <td>2017-01-01 08:00:00</td>\n",
       "      <td>114.099400</td>\n",
       "      <td>28.62561</td>\n",
       "      <td>30.66488</td>\n",
       "      <td>48.17846</td>\n",
       "      <td>30.41132</td>\n",
       "      <td>0.189681</td>\n",
       "      <td>0.048111</td>\n",
       "      <td>...</td>\n",
       "      <td>522.45370</td>\n",
       "      <td>518.5457</td>\n",
       "      <td>562.89610</td>\n",
       "      <td>615.77420</td>\n",
       "      <td>0.000086</td>\n",
       "      <td>5.436194</td>\n",
       "      <td>128.369978</td>\n",
       "      <td>64.402718</td>\n",
       "      <td>47.297175</td>\n",
       "      <td>44.345337</td>\n",
       "    </tr>\n",
       "    <tr>\n",
       "      <th>4</th>\n",
       "      <td>4</td>\n",
       "      <td>2017-01-01 08:15:00</td>\n",
       "      <td>2017-01-01 08:15:00</td>\n",
       "      <td>136.744700</td>\n",
       "      <td>28.82673</td>\n",
       "      <td>30.74261</td>\n",
       "      <td>61.10888</td>\n",
       "      <td>30.52994</td>\n",
       "      <td>0.794625</td>\n",
       "      <td>0.113000</td>\n",
       "      <td>...</td>\n",
       "      <td>544.84580</td>\n",
       "      <td>548.6167</td>\n",
       "      <td>587.11700</td>\n",
       "      <td>612.01060</td>\n",
       "      <td>0.000114</td>\n",
       "      <td>7.511735</td>\n",
       "      <td>131.117396</td>\n",
       "      <td>61.246892</td>\n",
       "      <td>56.545590</td>\n",
       "      <td>53.380818</td>\n",
       "    </tr>\n",
       "  </tbody>\n",
       "</table>\n",
       "<p>5 rows × 42 columns</p>\n",
       "</div>"
      ],
      "text/plain": [
       "   Unnamed: 0                 time               time.1     WS0_Sun  \\\n",
       "0           0  2017-01-01 07:15:00  2017-01-01 07:15:00    5.320261   \n",
       "1           1  2017-01-01 07:30:00  2017-01-01 07:30:00   23.561870   \n",
       "2           2  2017-01-01 07:45:00  2017-01-01 07:45:00  154.546700   \n",
       "3           3  2017-01-01 08:00:00  2017-01-01 08:00:00  114.099400   \n",
       "4           4  2017-01-01 08:15:00  2017-01-01 08:15:00  136.744700   \n",
       "\n",
       "   WS0_Temp1  WS0_TempF  WS1_Sun2  WS1_Temp1  \\\n",
       "0   28.57513   30.52502   4.88668   29.55798   \n",
       "1   28.38759   30.29182  15.46502   29.23085   \n",
       "2   28.53527   30.37812  53.34275   29.64955   \n",
       "3   28.62561   30.66488  48.17846   30.41132   \n",
       "4   28.82673   30.74261  61.10888   30.52994   \n",
       "\n",
       "   Production Meter (Elkor MII) KwAC  Chint SCA 36KTL - 1 KwAC  ...  \\\n",
       "0                          -0.248308                  0.000000  ...   \n",
       "1                          -0.244957                  0.010889  ...   \n",
       "2                          -0.036780                  0.085111  ...   \n",
       "3                           0.189681                  0.048111  ...   \n",
       "4                           0.794625                  0.113000  ...   \n",
       "\n",
       "   Chint SCA 36KTL - 6 Vdc  Chint SCA 36KTL - 7 Vdc  Chint SCA 36KTL - 8 Vdc  \\\n",
       "0                 75.99117                 180.3000                 38.50027   \n",
       "1                419.24770                 379.7802                325.01900   \n",
       "2                457.00420                 586.3856                581.84590   \n",
       "3                522.45370                 518.5457                562.89610   \n",
       "4                544.84580                 548.6167                587.11700   \n",
       "\n",
       "   Chint SCA 36KTL - 9 Vdc  timeelapsed  altitude     azimuth        aoi  \\\n",
       "0                 60.54493     0.000000 -1.508618  120.547557  74.344359   \n",
       "1                453.00260     0.000029  1.199592  123.091209  70.716775   \n",
       "2                598.19790     0.000057  3.311676  125.696554  67.577159   \n",
       "3                615.77420     0.000086  5.436194  128.369978  64.402718   \n",
       "4                612.01060     0.000114  7.511735  131.117396  61.246892   \n",
       "\n",
       "     DC_pred    AC_pred  \n",
       "0   2.230250   0.198529  \n",
       "1   9.863762   7.689906  \n",
       "2  63.839337  60.500844  \n",
       "3  47.297175  44.345337  \n",
       "4  56.545590  53.380818  \n",
       "\n",
       "[5 rows x 42 columns]"
      ]
     },
     "execution_count": 106,
     "metadata": {},
     "output_type": "execute_result"
    }
   ],
   "source": [
    "db.head()"
   ]
  },
  {
   "cell_type": "code",
   "execution_count": 107,
   "metadata": {},
   "outputs": [],
   "source": [
    "dbX = db[['WS0_Sun', 'WS0_Temp1', 'WS0_TempF', 'WS1_Sun2', 'WS1_Temp1', 'timeelapsed', 'altitude', 'azimuth', 'aoi', 'DC_pred', 'AC_pred']]\n",
    "dbY = db['Production Meter (Elkor MII) KwAC']\n",
    "\n",
    "dbx_full_train, dbx_test, dby_full_train, dby_test = train_test_split(dbX,dbY, test_size = .2, random_state = 1)\n",
    "dbx_train, dbx_val, dby_train, dby_val = train_test_split(dbx_full_train, dby_full_train, test_size = .25, random_state = 1)\n",
    "\n",
    "seed=2\n",
    "def objective(params):\n",
    "    est = int(params['n_estimators'])\n",
    "    md = int(params['max_depth'])\n",
    "    msl = int(params['min_samples_leaf'])\n",
    "    mss = int(params['min_samples_split'])\n",
    "\n",
    "    model=RandomForestRegressor(n_estimators=est,max_depth=md,min_samples_leaf=msl,min_samples_split=mss)\n",
    "    model.fit(dbx_train,dby_train)\n",
    "    pred=model.predict(dbx_test)\n",
    "    score=mean_squared_error(dby_test,pred)\n",
    "    return score\n",
    "\n",
    "def optimize(trial):\n",
    "    params={'n_estimators':hp.uniform('n_estimators',100,500),\n",
    "           'max_depth':hp.uniform('max_depth',5,20),\n",
    "           'min_samples_leaf':hp.uniform('min_samples_leaf',1,5),\n",
    "           'min_samples_split':hp.uniform('min_samples_split',2,6),\n",
    "           }\n",
    "    best=fmin(fn=objective,space=params,algo=tpe.suggest,trials=trial,max_evals=20,rstate=np.random.default_rng(seed))\n",
    "    return best\n",
    "\n",
    "trial=Trials()"
   ]
  },
  {
   "cell_type": "code",
   "execution_count": 108,
   "metadata": {},
   "outputs": [
    {
     "name": "stdout",
     "output_type": "stream",
     "text": [
      "100%|██████████| 20/20 [42:16<00:00, 126.81s/trial, best loss: 210.13401004410795]\n"
     ]
    }
   ],
   "source": [
    "best = optimize(trial)"
   ]
  },
  {
   "cell_type": "code",
   "execution_count": 109,
   "metadata": {},
   "outputs": [
    {
     "data": {
      "text/plain": [
       "{'max_depth': 18.886983419897025,\n",
       " 'min_samples_leaf': 2.1441468323467774,\n",
       " 'min_samples_split': 4.513989693799335,\n",
       " 'n_estimators': 406.8523354947371}"
      ]
     },
     "execution_count": 109,
     "metadata": {},
     "output_type": "execute_result"
    }
   ],
   "source": [
    "best"
   ]
  },
  {
   "attachments": {},
   "cell_type": "markdown",
   "metadata": {},
   "source": [
    "##### Best Fit\n",
    "\n",
    "Max Depth : 19\n",
    "\n",
    "Min Samples per Leaf : 2\n",
    "\n",
    "Min Samples Split 5\n",
    "\n",
    "Number of Estimators : 407\n",
    "\n",
    "R2 : .9818"
   ]
  },
  {
   "cell_type": "code",
   "execution_count": 110,
   "metadata": {},
   "outputs": [],
   "source": [
    "dbBestFit = RandomForestRegressor(max_depth=19, n_estimators=407, min_samples_leaf=2, min_samples_split=5, random_state=0)\n",
    "dbBestFit = dbBestFit.fit(dbx_train, dby_train)\n",
    "\n",
    "dbpred = dbBestFit.predict(dbx_test)\n",
    "dbmse = np.mean((dbpred - dby_test)**2)\n",
    "dbr2 = dbBestFit.score(dbx_test, dby_test)"
   ]
  },
  {
   "cell_type": "code",
   "execution_count": 111,
   "metadata": {},
   "outputs": [
    {
     "name": "stdout",
     "output_type": "stream",
     "text": [
      "209.35563374434835\n",
      "0.9818666585367434\n"
     ]
    }
   ],
   "source": [
    "print(dbmse)\n",
    "print(dbr2)"
   ]
  },
  {
   "cell_type": "code",
   "execution_count": 112,
   "metadata": {},
   "outputs": [
    {
     "name": "stdout",
     "output_type": "stream",
     "text": [
      "3195.0815279916796\n",
      "0.7223187018897086\n"
     ]
    }
   ],
   "source": [
    "dbprod = db['Production Meter (Elkor MII) KwAC']\n",
    "dbest = db['AC_pred']\n",
    "\n",
    "dbmse2 = mean_squared_error(dbprod, dbest)\n",
    "dbr22 = r2_score(dbprod, dbest)\n",
    "\n",
    "print(dbmse2)\n",
    "print(dbr22)"
   ]
  },
  {
   "attachments": {},
   "cell_type": "markdown",
   "metadata": {},
   "source": [
    "## Omega Model"
   ]
  },
  {
   "cell_type": "code",
   "execution_count": 4,
   "metadata": {},
   "outputs": [
    {
     "data": {
      "text/html": [
       "<div>\n",
       "<style scoped>\n",
       "    .dataframe tbody tr th:only-of-type {\n",
       "        vertical-align: middle;\n",
       "    }\n",
       "\n",
       "    .dataframe tbody tr th {\n",
       "        vertical-align: top;\n",
       "    }\n",
       "\n",
       "    .dataframe thead th {\n",
       "        text-align: right;\n",
       "    }\n",
       "</style>\n",
       "<table border=\"1\" class=\"dataframe\">\n",
       "  <thead>\n",
       "    <tr style=\"text-align: right;\">\n",
       "      <th></th>\n",
       "      <th>Unnamed: 0</th>\n",
       "      <th>time</th>\n",
       "      <th>time.1</th>\n",
       "      <th>WS0_Sun</th>\n",
       "      <th>WS0_Temp1</th>\n",
       "      <th>WS0_TempF</th>\n",
       "      <th>Elkor Production Meter KwAC</th>\n",
       "      <th>Chint SCA50KTL Inverter - 1 KwAC</th>\n",
       "      <th>Chint SCA50KTL Inverter - 2 KwAC</th>\n",
       "      <th>Chint SCA50KTL Inverter - 3 KwAC</th>\n",
       "      <th>...</th>\n",
       "      <th>Chint SCA50KTL Inverter - 7 Vdc</th>\n",
       "      <th>Chint SCA50KTL Inverter - 8 Vdc</th>\n",
       "      <th>Chint SCA50KTL Inverter - 9 Vdc</th>\n",
       "      <th>Chint SCA50KTL Inverter - 10 Vdc</th>\n",
       "      <th>timeelapsed</th>\n",
       "      <th>altitude</th>\n",
       "      <th>azimuth</th>\n",
       "      <th>aoi</th>\n",
       "      <th>DC_pred</th>\n",
       "      <th>AC_pred</th>\n",
       "    </tr>\n",
       "  </thead>\n",
       "  <tbody>\n",
       "    <tr>\n",
       "      <th>1</th>\n",
       "      <td>1</td>\n",
       "      <td>2021-01-01 07:30:00</td>\n",
       "      <td>2021-01-01 07:30:00</td>\n",
       "      <td>1.648456</td>\n",
       "      <td>24.60375</td>\n",
       "      <td>26.17599</td>\n",
       "      <td>0.561436</td>\n",
       "      <td>0.099667</td>\n",
       "      <td>0.022778</td>\n",
       "      <td>0.229556</td>\n",
       "      <td>...</td>\n",
       "      <td>616.7617</td>\n",
       "      <td>652.9885</td>\n",
       "      <td>591.9233</td>\n",
       "      <td>605.8812</td>\n",
       "      <td>0.000029</td>\n",
       "      <td>-0.186672</td>\n",
       "      <td>122.367996</td>\n",
       "      <td>72.278134</td>\n",
       "      <td>1.272002</td>\n",
       "      <td>-1.885368</td>\n",
       "    </tr>\n",
       "    <tr>\n",
       "      <th>2</th>\n",
       "      <td>2</td>\n",
       "      <td>2021-01-01 07:45:00</td>\n",
       "      <td>2021-01-01 07:45:00</td>\n",
       "      <td>6.075200</td>\n",
       "      <td>24.83837</td>\n",
       "      <td>26.30890</td>\n",
       "      <td>3.220538</td>\n",
       "      <td>0.435889</td>\n",
       "      <td>0.236111</td>\n",
       "      <td>0.659333</td>\n",
       "      <td>...</td>\n",
       "      <td>651.8253</td>\n",
       "      <td>642.2037</td>\n",
       "      <td>646.4118</td>\n",
       "      <td>656.3085</td>\n",
       "      <td>0.000057</td>\n",
       "      <td>1.747938</td>\n",
       "      <td>125.014019</td>\n",
       "      <td>69.271631</td>\n",
       "      <td>4.684524</td>\n",
       "      <td>1.464974</td>\n",
       "    </tr>\n",
       "    <tr>\n",
       "      <th>3</th>\n",
       "      <td>3</td>\n",
       "      <td>2021-01-01 08:00:00</td>\n",
       "      <td>2021-01-01 08:00:00</td>\n",
       "      <td>13.090850</td>\n",
       "      <td>25.36635</td>\n",
       "      <td>26.46972</td>\n",
       "      <td>8.226647</td>\n",
       "      <td>0.914000</td>\n",
       "      <td>0.714000</td>\n",
       "      <td>1.113444</td>\n",
       "      <td>...</td>\n",
       "      <td>682.7083</td>\n",
       "      <td>679.9183</td>\n",
       "      <td>681.0267</td>\n",
       "      <td>685.3298</td>\n",
       "      <td>0.000086</td>\n",
       "      <td>3.775454</td>\n",
       "      <td>127.720813</td>\n",
       "      <td>66.165323</td>\n",
       "      <td>10.083958</td>\n",
       "      <td>6.764574</td>\n",
       "    </tr>\n",
       "    <tr>\n",
       "      <th>4</th>\n",
       "      <td>4</td>\n",
       "      <td>2021-01-01 08:15:00</td>\n",
       "      <td>2021-01-01 08:15:00</td>\n",
       "      <td>21.648280</td>\n",
       "      <td>26.23335</td>\n",
       "      <td>26.81800</td>\n",
       "      <td>14.226210</td>\n",
       "      <td>1.463333</td>\n",
       "      <td>1.333000</td>\n",
       "      <td>1.686222</td>\n",
       "      <td>...</td>\n",
       "      <td>695.5847</td>\n",
       "      <td>672.2221</td>\n",
       "      <td>700.9260</td>\n",
       "      <td>700.4163</td>\n",
       "      <td>0.000114</td>\n",
       "      <td>5.786725</td>\n",
       "      <td>130.494059</td>\n",
       "      <td>63.053618</td>\n",
       "      <td>16.650026</td>\n",
       "      <td>13.206842</td>\n",
       "    </tr>\n",
       "    <tr>\n",
       "      <th>5</th>\n",
       "      <td>5</td>\n",
       "      <td>2021-01-01 08:30:00</td>\n",
       "      <td>2021-01-01 08:30:00</td>\n",
       "      <td>34.125920</td>\n",
       "      <td>27.40173</td>\n",
       "      <td>27.36291</td>\n",
       "      <td>22.974620</td>\n",
       "      <td>2.356333</td>\n",
       "      <td>2.207000</td>\n",
       "      <td>2.555000</td>\n",
       "      <td>...</td>\n",
       "      <td>712.4380</td>\n",
       "      <td>699.6149</td>\n",
       "      <td>713.1367</td>\n",
       "      <td>717.9022</td>\n",
       "      <td>0.000143</td>\n",
       "      <td>7.737786</td>\n",
       "      <td>133.338854</td>\n",
       "      <td>59.976295</td>\n",
       "      <td>26.185589</td>\n",
       "      <td>22.557934</td>\n",
       "    </tr>\n",
       "  </tbody>\n",
       "</table>\n",
       "<p>5 rows × 43 columns</p>\n",
       "</div>"
      ],
      "text/plain": [
       "   Unnamed: 0                 time               time.1    WS0_Sun  WS0_Temp1  \\\n",
       "1           1  2021-01-01 07:30:00  2021-01-01 07:30:00   1.648456   24.60375   \n",
       "2           2  2021-01-01 07:45:00  2021-01-01 07:45:00   6.075200   24.83837   \n",
       "3           3  2021-01-01 08:00:00  2021-01-01 08:00:00  13.090850   25.36635   \n",
       "4           4  2021-01-01 08:15:00  2021-01-01 08:15:00  21.648280   26.23335   \n",
       "5           5  2021-01-01 08:30:00  2021-01-01 08:30:00  34.125920   27.40173   \n",
       "\n",
       "   WS0_TempF  Elkor Production Meter KwAC  Chint SCA50KTL Inverter - 1 KwAC  \\\n",
       "1   26.17599                     0.561436                          0.099667   \n",
       "2   26.30890                     3.220538                          0.435889   \n",
       "3   26.46972                     8.226647                          0.914000   \n",
       "4   26.81800                    14.226210                          1.463333   \n",
       "5   27.36291                    22.974620                          2.356333   \n",
       "\n",
       "   Chint SCA50KTL Inverter - 2 KwAC  Chint SCA50KTL Inverter - 3 KwAC  ...  \\\n",
       "1                          0.022778                          0.229556  ...   \n",
       "2                          0.236111                          0.659333  ...   \n",
       "3                          0.714000                          1.113444  ...   \n",
       "4                          1.333000                          1.686222  ...   \n",
       "5                          2.207000                          2.555000  ...   \n",
       "\n",
       "   Chint SCA50KTL Inverter - 7 Vdc  Chint SCA50KTL Inverter - 8 Vdc  \\\n",
       "1                         616.7617                         652.9885   \n",
       "2                         651.8253                         642.2037   \n",
       "3                         682.7083                         679.9183   \n",
       "4                         695.5847                         672.2221   \n",
       "5                         712.4380                         699.6149   \n",
       "\n",
       "   Chint SCA50KTL Inverter - 9 Vdc  Chint SCA50KTL Inverter - 10 Vdc  \\\n",
       "1                         591.9233                          605.8812   \n",
       "2                         646.4118                          656.3085   \n",
       "3                         681.0267                          685.3298   \n",
       "4                         700.9260                          700.4163   \n",
       "5                         713.1367                          717.9022   \n",
       "\n",
       "   timeelapsed  altitude     azimuth        aoi    DC_pred    AC_pred  \n",
       "1     0.000029 -0.186672  122.367996  72.278134   1.272002  -1.885368  \n",
       "2     0.000057  1.747938  125.014019  69.271631   4.684524   1.464974  \n",
       "3     0.000086  3.775454  127.720813  66.165323  10.083958   6.764574  \n",
       "4     0.000114  5.786725  130.494059  63.053618  16.650026  13.206842  \n",
       "5     0.000143  7.737786  133.338854  59.976295  26.185589  22.557934  \n",
       "\n",
       "[5 rows x 43 columns]"
      ]
     },
     "execution_count": 4,
     "metadata": {},
     "output_type": "execute_result"
    }
   ],
   "source": [
    "omg = pd.read_csv('siteData2/Omega_combined.csv')\n",
    "omg = omg.dropna()\n",
    "omg.head()"
   ]
  },
  {
   "cell_type": "code",
   "execution_count": 5,
   "metadata": {},
   "outputs": [],
   "source": [
    "omgX = omg[['WS0_Sun', 'WS0_Temp1', 'WS0_TempF', 'timeelapsed', 'altitude', 'azimuth', 'aoi', 'DC_pred', 'AC_pred']]\n",
    "omgY = omg['Elkor Production Meter KwAC']\n",
    "\n",
    "omgx_full_train, omgx_test, omgy_full_train, omgy_test = train_test_split(omgX,omgY, test_size = .2, random_state = 1)\n",
    "omgx_train, omgx_val, omgy_train, omgy_val = train_test_split(omgx_full_train, omgy_full_train, test_size = .25, random_state = 1)\n",
    "\n",
    "seed=2\n",
    "def objective(params):\n",
    "    est = int(params['n_estimators'])\n",
    "    md = int(params['max_depth'])\n",
    "    msl = int(params['min_samples_leaf'])\n",
    "    mss = int(params['min_samples_split'])\n",
    "\n",
    "    model=RandomForestRegressor(n_estimators=est,max_depth=md,min_samples_leaf=msl,min_samples_split=mss)\n",
    "    model.fit(omgx_train,omgy_train)\n",
    "    pred=model.predict(omgx_test)\n",
    "    score=mean_squared_error(omgy_test,pred)\n",
    "    return score\n",
    "\n",
    "def optimize(trial):\n",
    "    params={'n_estimators':hp.uniform('n_estimators',100,500),\n",
    "           'max_depth':hp.uniform('max_depth',5,20),\n",
    "           'min_samples_leaf':hp.uniform('min_samples_leaf',1,5),\n",
    "           'min_samples_split':hp.uniform('min_samples_split',2,6),\n",
    "           }\n",
    "    best=fmin(fn=objective,space=params,algo=tpe.suggest,trials=trial,max_evals=20,rstate=np.random.default_rng(seed))\n",
    "    return best\n",
    "\n",
    "trial=Trials()"
   ]
  },
  {
   "cell_type": "code",
   "execution_count": 6,
   "metadata": {},
   "outputs": [
    {
     "name": "stdout",
     "output_type": "stream",
     "text": [
      "100%|██████████| 20/20 [10:57<00:00, 32.88s/trial, best loss: 724.7242012306858]\n"
     ]
    }
   ],
   "source": [
    "best = optimize(trial)"
   ]
  },
  {
   "cell_type": "code",
   "execution_count": 7,
   "metadata": {},
   "outputs": [
    {
     "data": {
      "text/plain": [
       "{'max_depth': 18.288754468457192,\n",
       " 'min_samples_leaf': 2.302692011627016,\n",
       " 'min_samples_split': 3.7026742150109038,\n",
       " 'n_estimators': 360.9016960267483}"
      ]
     },
     "execution_count": 7,
     "metadata": {},
     "output_type": "execute_result"
    }
   ],
   "source": [
    "best"
   ]
  },
  {
   "attachments": {},
   "cell_type": "markdown",
   "metadata": {},
   "source": [
    "##### Best Fit\n",
    "Max Depth : 19\n",
    "\n",
    "Min Samples per Leaf : 2\n",
    "\n",
    "Min Samples Split : 5\n",
    "\n",
    "Number of Estimators : 407\n",
    "\n",
    "R2 : .9793"
   ]
  },
  {
   "cell_type": "code",
   "execution_count": 121,
   "metadata": {},
   "outputs": [],
   "source": [
    "omgBestFit = RandomForestRegressor(max_depth=19, n_estimators=407, min_samples_leaf=2, min_samples_split=5, random_state=0)\n",
    "omgBestFit = omgBestFit.fit(omgx_train, omgy_train)\n",
    "\n",
    "omgpred = omgBestFit.predict(omgx_test)\n",
    "omgmse = np.mean((omgpred - omgy_test)**2)\n",
    "omgr2 = omgBestFit.score(omgx_test, omgy_test)"
   ]
  },
  {
   "cell_type": "code",
   "execution_count": 122,
   "metadata": {},
   "outputs": [
    {
     "name": "stdout",
     "output_type": "stream",
     "text": [
      "730.9751607126377\n",
      "0.9793793960410943\n"
     ]
    }
   ],
   "source": [
    "print(omgmse)\n",
    "print(omgr2)"
   ]
  },
  {
   "cell_type": "code",
   "execution_count": 123,
   "metadata": {},
   "outputs": [
    {
     "name": "stdout",
     "output_type": "stream",
     "text": [
      "3306.8474299240725\n",
      "0.9059223988824403\n"
     ]
    }
   ],
   "source": [
    "omgprod = omg['Elkor Production Meter KwAC']\n",
    "omgest = omg['AC_pred']\n",
    "\n",
    "omgmse2 = mean_squared_error(omgprod, omgest)\n",
    "omgr22 = r2_score(omgprod, omgest)\n",
    "\n",
    "print(omgmse2)\n",
    "print(omgr22)"
   ]
  },
  {
   "attachments": {},
   "cell_type": "markdown",
   "metadata": {},
   "source": [
    "## St James Model"
   ]
  },
  {
   "cell_type": "code",
   "execution_count": 129,
   "metadata": {},
   "outputs": [
    {
     "data": {
      "text/plain": [
       "(56270, 43)"
      ]
     },
     "execution_count": 129,
     "metadata": {},
     "output_type": "execute_result"
    }
   ],
   "source": [
    "stj = pd.read_csv('siteData2/StJ_combined.csv')\n",
    "stj = stj.dropna()\n",
    "stj.shape"
   ]
  },
  {
   "cell_type": "code",
   "execution_count": 134,
   "metadata": {},
   "outputs": [],
   "source": [
    "stjX = stj[['WS0_Sun', 'WS0_Temp1', 'WS0_TempF', 'timeelapsed', 'altitude', 'azimuth', 'aoi', 'DC_pred', 'AC_pred']]\n",
    "stjY = stj['Elkor Production Meter KwAC']\n",
    "\n",
    "stjx_full_train, stjx_test, stjy_full_train, stjy_test = train_test_split(stjX, stjY, test_size = .2, random_state = 1)\n",
    "stjx_train, stjx_val, stjy_train, stjy_val = train_test_split(stjx_full_train, stjy_full_train, test_size = .25, random_state = 1)\n",
    "\n",
    "seed=2\n",
    "def objective(params):\n",
    "    est = int(params['n_estimators'])\n",
    "    md = int(params['max_depth'])\n",
    "    msl = int(params['min_samples_leaf'])\n",
    "    mss = int(params['min_samples_split'])\n",
    "\n",
    "    model=RandomForestRegressor(n_estimators=est,max_depth=md,min_samples_leaf=msl,min_samples_split=mss)\n",
    "    model.fit(stjx_train,stjy_train)\n",
    "    pred=model.predict(stjx_test)\n",
    "    score=mean_squared_error(stjy_test,pred)\n",
    "    return score\n",
    "\n",
    "def optimize(trial):\n",
    "    params={'n_estimators':hp.uniform('n_estimators',100,500),\n",
    "           'max_depth':hp.uniform('max_depth',5,20),\n",
    "           'min_samples_leaf':hp.uniform('min_samples_leaf',1,5),\n",
    "           'min_samples_split':hp.uniform('min_samples_split',2,6),\n",
    "           }\n",
    "    best=fmin(fn=objective,space=params,algo=tpe.suggest,trials=trial,max_evals=20,rstate=np.random.default_rng(seed))\n",
    "    return best\n",
    "\n",
    "trial=Trials()"
   ]
  },
  {
   "cell_type": "code",
   "execution_count": 135,
   "metadata": {},
   "outputs": [
    {
     "name": "stdout",
     "output_type": "stream",
     "text": [
      "100%|██████████| 20/20 [16:16<00:00, 48.83s/trial, best loss: 615.048942408222]\n"
     ]
    }
   ],
   "source": [
    "best = optimize(trial)"
   ]
  },
  {
   "cell_type": "code",
   "execution_count": 136,
   "metadata": {},
   "outputs": [
    {
     "data": {
      "text/plain": [
       "{'max_depth': 17.06974354546972,\n",
       " 'min_samples_leaf': 2.3918730381022115,\n",
       " 'min_samples_split': 2.9289857075688754,\n",
       " 'n_estimators': 348.29829423751994}"
      ]
     },
     "execution_count": 136,
     "metadata": {},
     "output_type": "execute_result"
    }
   ],
   "source": [
    "best"
   ]
  },
  {
   "attachments": {},
   "cell_type": "markdown",
   "metadata": {},
   "source": [
    "##### Best Fit\n",
    "\n",
    "Max Depth : 17\n",
    "\n",
    "Min Samples Leaf : 2\n",
    "\n",
    "Min Samples Split : 3\n",
    "\n",
    "Number of Estimators : 348\n",
    "\n",
    "R^2 : .9797"
   ]
  },
  {
   "cell_type": "code",
   "execution_count": 139,
   "metadata": {},
   "outputs": [],
   "source": [
    "stjBestFit = RandomForestRegressor(max_depth=17, n_estimators=348, min_samples_leaf=2, min_samples_split=3, random_state=0)\n",
    "stjBestFit = stjBestFit.fit(stjx_train, stjy_train)\n",
    "\n",
    "stjpred = stjBestFit.predict(stjx_test)\n",
    "stjmse = np.mean((stjpred - stjy_test)**2)\n",
    "stjr2 = stjBestFit.score(stjx_test, stjy_test)"
   ]
  },
  {
   "cell_type": "code",
   "execution_count": 140,
   "metadata": {},
   "outputs": [
    {
     "name": "stdout",
     "output_type": "stream",
     "text": [
      "615.51185090937\n",
      "0.9797686795942832\n"
     ]
    }
   ],
   "source": [
    "print(stjmse)\n",
    "print(stjr2)"
   ]
  },
  {
   "cell_type": "code",
   "execution_count": 141,
   "metadata": {},
   "outputs": [
    {
     "name": "stdout",
     "output_type": "stream",
     "text": [
      "2339.8944142837963\n",
      "0.9232906283929829\n"
     ]
    }
   ],
   "source": [
    "stjprod = stj['Elkor Production Meter KwAC']\n",
    "stjest = stj['AC_pred']\n",
    "\n",
    "stjmse2 = mean_squared_error(stjprod, stjest)\n",
    "stjr22 = r2_score(stjprod, stjest)\n",
    "\n",
    "print(stjmse2)\n",
    "print(stjr22)"
   ]
  },
  {
   "cell_type": "code",
   "execution_count": 8,
   "metadata": {},
   "outputs": [],
   "source": [
    "from randomForest import randomForest"
   ]
  },
  {
   "cell_type": "code",
   "execution_count": 9,
   "metadata": {},
   "outputs": [
    {
     "data": {
      "text/plain": [
       "(56270, 43)"
      ]
     },
     "execution_count": 9,
     "metadata": {},
     "output_type": "execute_result"
    }
   ],
   "source": [
    "stj = pd.read_csv('siteData2/StJ_combined.csv')\n",
    "stj = stj.dropna()\n",
    "stj.shape"
   ]
  },
  {
   "cell_type": "code",
   "execution_count": 10,
   "metadata": {},
   "outputs": [
    {
     "data": {
      "text/plain": [
       "Unnamed: 0                                                      2\n",
       "time                                          2019-12-01 07:15:00\n",
       "time.1                                        2019-12-01 07:15:00\n",
       "WS0_Sun                                                   13.8033\n",
       "WS0_Temp1                                                -1.41571\n",
       "WS0_TempF                                                 4.73818\n",
       "Elkor Production Meter KwAC                               8.11024\n",
       "CPS SCA50KTL-DOS/US-480 Inverter - 1 KwAC                0.769222\n",
       "CPS SCA50KTL-DOS/US-480 Inverter - 2 KwAC                0.794667\n",
       "CPS SCA50KTL-DOS/US-480 Inverter - 3 KwAC                       0\n",
       "CPS SCA50KTL-DOS/US-480 Inverter - 4 KwAC                0.991111\n",
       "CPS SCA50KTL-DOS/US-480 Inverter - 5 KwAC                0.792333\n",
       "CPS SCA50KTL-DOS/US-480 Inverter - 6 KwAC                0.964111\n",
       "CPS SCA50KTL-DOS/US-480 Inverter - 7 KwAC                 1.28733\n",
       "CPS SCA50KTL-DOS/US-480 Inverter - 8 KwAC                 1.28667\n",
       "CPS SCA50KTL-DOS/US-480 Inverter - 9 KwAC                 1.28578\n",
       "CPS SCA50KTL-DOS/US-480 Inverter - 10 KwAC               0.938555\n",
       "CPS SCA50KTL-DOS/US-480 Inverter - 1 Idc                 0.971556\n",
       "CPS SCA50KTL-DOS/US-480 Inverter - 2 Idc                  1.14167\n",
       "CPS SCA50KTL-DOS/US-480 Inverter - 3 Idc                        0\n",
       "CPS SCA50KTL-DOS/US-480 Inverter - 4 Idc                     1.27\n",
       "CPS SCA50KTL-DOS/US-480 Inverter - 5 Idc                  1.16389\n",
       "CPS SCA50KTL-DOS/US-480 Inverter - 6 Idc                    1.187\n",
       "CPS SCA50KTL-DOS/US-480 Inverter - 7 Idc                  1.25878\n",
       "CPS SCA50KTL-DOS/US-480 Inverter - 8 Idc                  1.25611\n",
       "CPS SCA50KTL-DOS/US-480 Inverter - 9 Idc                  1.23156\n",
       "CPS SCA50KTL-DOS/US-480 Inverter - 10 Idc                 1.25245\n",
       "CPS SCA50KTL-DOS/US-480 Inverter - 1 Vdc                  650.454\n",
       "CPS SCA50KTL-DOS/US-480 Inverter - 2 Vdc                  658.452\n",
       "CPS SCA50KTL-DOS/US-480 Inverter - 3 Vdc                  790.812\n",
       "CPS SCA50KTL-DOS/US-480 Inverter - 4 Vdc                  665.338\n",
       "CPS SCA50KTL-DOS/US-480 Inverter - 5 Vdc                  657.606\n",
       "CPS SCA50KTL-DOS/US-480 Inverter - 6 Vdc                  667.794\n",
       "CPS SCA50KTL-DOS/US-480 Inverter - 7 Vdc                  661.215\n",
       "CPS SCA50KTL-DOS/US-480 Inverter - 8 Vdc                  663.903\n",
       "CPS SCA50KTL-DOS/US-480 Inverter - 9 Vdc                  659.108\n",
       "CPS SCA50KTL-DOS/US-480 Inverter - 10 Vdc                 653.866\n",
       "timeelapsed                                           5.70776e-05\n",
       "altitude                                                  1.23027\n",
       "azimuth                                                   122.346\n",
       "aoi                                                       75.7873\n",
       "DC_pred                                                   10.4889\n",
       "AC_pred                                                   7.16192\n",
       "Name: 2, dtype: object"
      ]
     },
     "execution_count": 10,
     "metadata": {},
     "output_type": "execute_result"
    }
   ],
   "source": [
    "stj.iloc[2,:]"
   ]
  },
  {
   "cell_type": "code",
   "execution_count": 11,
   "metadata": {},
   "outputs": [],
   "source": [
    "# stjX = stj[['WS0_Sun', 'WS0_Temp1', 'WS0_TempF', 'timeelapsed', 'altitude', 'azimuth', 'aoi', 'DC_pred', 'AC_pred']]\n",
    "stjX = stj[['WS0_Sun', 'WS0_Temp1', 'WS0_TempF', 'timeelapsed', 'altitude', 'azimuth', 'aoi']]\n",
    "stjY = stj['Elkor Production Meter KwAC']"
   ]
  },
  {
   "cell_type": "code",
   "execution_count": 12,
   "metadata": {},
   "outputs": [],
   "source": [
    "rf = randomForest(stjX, stjY, 2, .2, .25)"
   ]
  },
  {
   "cell_type": "code",
   "execution_count": 8,
   "metadata": {},
   "outputs": [
    {
     "name": "stdout",
     "output_type": "stream",
     "text": [
      "100%|██████████| 2/2 [01:19<00:00, 39.87s/trial, best loss: 1299.9210928365387]\n"
     ]
    }
   ],
   "source": [
    "rf.optimizeModel()"
   ]
  },
  {
   "cell_type": "code",
   "execution_count": 9,
   "metadata": {},
   "outputs": [],
   "source": [
    "rf.buildBest()"
   ]
  },
  {
   "cell_type": "code",
   "execution_count": 10,
   "metadata": {},
   "outputs": [
    {
     "name": "stdout",
     "output_type": "stream",
     "text": [
      "Max Depth: 11.303624162582604\n",
      "Min Samples per Leaf: 4.362404654862145\n",
      "Min Samples Split: 5.650447965353443\n",
      "Number of Estimators: 180.12943857883053\n",
      "\n"
     ]
    }
   ],
   "source": [
    "print(rf)"
   ]
  },
  {
   "cell_type": "code",
   "execution_count": 11,
   "metadata": {},
   "outputs": [
    {
     "name": "stdout",
     "output_type": "stream",
     "text": [
      "825.251496274939\n",
      "0.9726880345627708\n"
     ]
    }
   ],
   "source": [
    "print(rf.bestMse)\n",
    "print(rf.bestR2)"
   ]
  },
  {
   "cell_type": "code",
   "execution_count": 12,
   "metadata": {},
   "outputs": [],
   "source": [
    "import matplotlib.pyplot as plt"
   ]
  },
  {
   "cell_type": "code",
   "execution_count": 13,
   "metadata": {},
   "outputs": [
    {
     "name": "stdout",
     "output_type": "stream",
     "text": [
      "11254\n"
     ]
    }
   ],
   "source": [
    "predicted = rf.pred\n",
    "actual = rf.yTest\n",
    "\n",
    "print(len(predicted))"
   ]
  },
  {
   "cell_type": "code",
   "execution_count": 14,
   "metadata": {},
   "outputs": [],
   "source": [
    "time = [i for i in range(0, len(predicted))]"
   ]
  },
  {
   "cell_type": "code",
   "execution_count": 22,
   "metadata": {},
   "outputs": [
    {
     "data": {
      "text/plain": [
       "[<matplotlib.lines.Line2D at 0x7feaf5fc4510>]"
      ]
     },
     "execution_count": 22,
     "metadata": {},
     "output_type": "execute_result"
    },
    {
     "data": {
      "image/png": "[encoded data removed]",
      "text/plain": [
       "<Figure size 432x288 with 1 Axes>"
      ]
     },
     "metadata": {
      "needs_background": "light"
     },
     "output_type": "display_data"
    }
   ],
   "source": [
    "plt.plot(stj['time'][-100:], predicted[-100:], 'b')\n",
    "plt.plot(stj['time'][-100:], actual[-100:], 'g')\n",
    "plt.plot(stj['time'][-100:], stj['DC_pred'][-100:], 'm')"
   ]
  },
  {
   "cell_type": "code",
   "execution_count": 18,
   "metadata": {},
   "outputs": [
    {
     "data": {
      "text/plain": [
       "0     2019-12-01 06:45:00\n",
       "1     2019-12-01 07:00:00\n",
       "2     2019-12-01 07:15:00\n",
       "3     2019-12-01 07:30:00\n",
       "4     2019-12-01 07:45:00\n",
       "             ...         \n",
       "95    2019-12-03 12:30:00\n",
       "96    2019-12-03 12:45:00\n",
       "97    2019-12-03 13:00:00\n",
       "98    2019-12-03 13:15:00\n",
       "99    2019-12-03 13:30:00\n",
       "Name: time, Length: 100, dtype: object"
      ]
     },
     "execution_count": 18,
     "metadata": {},
     "output_type": "execute_result"
    }
   ],
   "source": [
    "stj['time'][:100]"
   ]
  },
  {
   "cell_type": "code",
   "execution_count": 2,
   "metadata": {},
   "outputs": [
    {
     "ename": "NameError",
     "evalue": "name 'stj' is not defined",
     "output_type": "error",
     "traceback": [
      "\u001b[0;31m---------------------------------------------------------------------------\u001b[0m",
      "\u001b[0;31mNameError\u001b[0m                                 Traceback (most recent call last)",
      "\u001b[0;32m<ipython-input-2-f2e010a65a60>\u001b[0m in \u001b[0;36m<module>\u001b[0;34m\u001b[0m\n\u001b[0;32m----> 1\u001b[0;31m \u001b[0mstj\u001b[0m\u001b[0;34m.\u001b[0m\u001b[0mhead\u001b[0m\u001b[0;34m(\u001b[0m\u001b[0;34m)\u001b[0m\u001b[0;34m\u001b[0m\u001b[0;34m\u001b[0m\u001b[0m\n\u001b[0m",
      "\u001b[0;31mNameError\u001b[0m: name 'stj' is not defined"
     ]
    }
   ],
   "source": [
    "stj.head()"
   ]
  },
  {
   "cell_type": "code",
   "execution_count": null,
   "metadata": {},
   "outputs": [],
   "source": []
  }
 ],
 "metadata": {
  "kernelspec": {
   "display_name": "base",
   "language": "python",
   "name": "python3"
  },
  "language_info": {
   "codemirror_mode": {
    "name": "ipython",
    "version": 3
   },
   "file_extension": ".py",
   "mimetype": "text/x-python",
   "name": "python",
   "nbconvert_exporter": "python",
   "pygments_lexer": "ipython3",
   "version": "3.7.6"
  },
  "orig_nbformat": 4
 },
 "nbformat": 4,
 "nbformat_minor": 2
}
